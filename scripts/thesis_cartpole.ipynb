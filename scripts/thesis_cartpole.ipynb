{
  "cells": [
    {
      "cell_type": "markdown",
      "metadata": {
        "id": "view-in-github",
        "colab_type": "text"
      },
      "source": [
        "<a href=\"https://colab.research.google.com/github/daniel-hu-37/neural_ilqr/blob/master/scripts/thesis_cartpole.ipynb\" target=\"_parent\"><img src=\"https://colab.research.google.com/assets/colab-badge.svg\" alt=\"Open In Colab\"/></a>"
      ]
    },
    {
      "cell_type": "markdown",
      "metadata": {
        "id": "rqLmV0hpSGwU"
      },
      "source": [
        "# Cartpole Problem\n",
        "\n",
        "The state and control vectors $\\textbf{x}$ and $\\textbf{u}$ are defined as follows:\n",
        "\n",
        "$$\n",
        "\\begin{equation*}\n",
        "\\textbf{x} = \\begin{bmatrix}\n",
        "    x & \\dot{x} & \\theta & \\dot{\\theta}\n",
        "    \\end{bmatrix}^T\n",
        "\\end{equation*}\n",
        "$$\n",
        "\n",
        "$$\n",
        "\\begin{equation*}\n",
        "\\textbf{u} = \\begin{bmatrix}\n",
        "    F_{x}\n",
        "    \\end{bmatrix}^T\n",
        "\\end{equation*}\n",
        "$$\n",
        "\n",
        "The goal is to swing the pendulum upright:\n",
        "\n",
        "$$\n",
        "\\begin{equation*}\n",
        "\\textbf{x}_{goal} = \\begin{bmatrix}\n",
        "    0 & 0 & 0 & 0\n",
        "    \\end{bmatrix}^T\n",
        "\\end{equation*}\n",
        "$$\n",
        "\n",
        "**Note**: The force is constrained between $-1$ and $1$. This is achieved by\n",
        "instead fitting for unconstrained actions and then applying it to a squashing\n",
        "function $\\tanh(\\textbf{u})$. This is directly embedded into the dynamics model\n",
        "in order to be auto-differentiated. This also means that we need to apply this\n",
        "transformation manually to the output of our iLQR at the end."
      ]
    },
    {
      "cell_type": "code",
      "execution_count": 1,
      "metadata": {
        "id": "YU75VT3hSGwW"
      },
      "outputs": [],
      "source": [
        "%matplotlib inline\n",
        "from __future__ import print_function\n",
        "import numpy as np\n",
        "import matplotlib.pyplot as plt"
      ]
    },
    {
      "cell_type": "code",
      "source": [
        "!pip install git+https://github.com/daniel-hu-37/neural_ilqr.git\n",
        "from neural_ilqr.ilqr.controller import iLQR\n",
        "from neural_ilqr.ilqr.cost import QRCost\n",
        "from neural_ilqr.models.cartpole import CartpoleDynamics"
      ],
      "metadata": {
        "id": "hH3SZG9Sdyv2",
        "outputId": "efece2ab-750d-49c2-a96b-707831d71daf",
        "colab": {
          "base_uri": "https://localhost:8080/",
          "height": 703
        }
      },
      "execution_count": 2,
      "outputs": [
        {
          "output_type": "stream",
          "name": "stdout",
          "text": [
            "Collecting git+https://github.com/daniel-hu-37/neural_ilqr.git\n",
            "  Cloning https://github.com/daniel-hu-37/neural_ilqr.git to /tmp/pip-req-build-o5kdt15a\n",
            "  Running command git clone --filter=blob:none --quiet https://github.com/daniel-hu-37/neural_ilqr.git /tmp/pip-req-build-o5kdt15a\n",
            "  Resolved https://github.com/daniel-hu-37/neural_ilqr.git to commit d79f61dd9e385fe7228b58fde939df9574b79d30\n",
            "  Preparing metadata (setup.py) ... \u001b[?25l\u001b[?25hdone\n",
            "Requirement already satisfied: numpy>=1.16.3 in /usr/local/lib/python3.10/dist-packages (from neural-ilqr==1.0) (1.25.2)\n",
            "Requirement already satisfied: scipy>=1.2.1 in /usr/local/lib/python3.10/dist-packages (from neural-ilqr==1.0) (1.11.4)\n",
            "Requirement already satisfied: jax>=0.2.17 in /usr/local/lib/python3.10/dist-packages (from neural-ilqr==1.0) (0.4.26)\n",
            "Requirement already satisfied: jaxlib>=0.1.71 in /usr/local/lib/python3.10/dist-packages (from neural-ilqr==1.0) (0.4.26+cuda12.cudnn89)\n",
            "Requirement already satisfied: ml-dtypes>=0.2.0 in /usr/local/lib/python3.10/dist-packages (from jax>=0.2.17->neural-ilqr==1.0) (0.2.0)\n",
            "Requirement already satisfied: opt-einsum in /usr/local/lib/python3.10/dist-packages (from jax>=0.2.17->neural-ilqr==1.0) (3.3.0)\n"
          ]
        },
        {
          "output_type": "error",
          "ename": "ImportError",
          "evalue": "cannot import name 'apply_constraint' from 'neural_ilqr.ilqr.dynamics' (/usr/local/lib/python3.10/dist-packages/neural_ilqr/ilqr/dynamics.py)",
          "traceback": [
            "\u001b[0;31m---------------------------------------------------------------------------\u001b[0m",
            "\u001b[0;31mImportError\u001b[0m                               Traceback (most recent call last)",
            "\u001b[0;32m<ipython-input-2-fdd80e57c56f>\u001b[0m in \u001b[0;36m<cell line: 4>\u001b[0;34m()\u001b[0m\n\u001b[1;32m      2\u001b[0m \u001b[0;32mfrom\u001b[0m \u001b[0mneural_ilqr\u001b[0m\u001b[0;34m.\u001b[0m\u001b[0milqr\u001b[0m\u001b[0;34m.\u001b[0m\u001b[0mcontroller\u001b[0m \u001b[0;32mimport\u001b[0m \u001b[0miLQR\u001b[0m\u001b[0;34m\u001b[0m\u001b[0;34m\u001b[0m\u001b[0m\n\u001b[1;32m      3\u001b[0m \u001b[0;32mfrom\u001b[0m \u001b[0mneural_ilqr\u001b[0m\u001b[0;34m.\u001b[0m\u001b[0milqr\u001b[0m\u001b[0;34m.\u001b[0m\u001b[0mcost\u001b[0m \u001b[0;32mimport\u001b[0m \u001b[0mQRCost\u001b[0m\u001b[0;34m\u001b[0m\u001b[0;34m\u001b[0m\u001b[0m\n\u001b[0;32m----> 4\u001b[0;31m \u001b[0;32mfrom\u001b[0m \u001b[0mneural_ilqr\u001b[0m\u001b[0;34m.\u001b[0m\u001b[0mmodels\u001b[0m\u001b[0;34m.\u001b[0m\u001b[0mcartpole\u001b[0m \u001b[0;32mimport\u001b[0m \u001b[0mCartpoleDynamics\u001b[0m\u001b[0;34m\u001b[0m\u001b[0;34m\u001b[0m\u001b[0m\n\u001b[0m",
            "\u001b[0;32m/usr/local/lib/python3.10/dist-packages/neural_ilqr/models/__init__.py\u001b[0m in \u001b[0;36m<module>\u001b[0;34m\u001b[0m\n\u001b[1;32m     15\u001b[0m \u001b[0;34m\"\"\"Example models.\"\"\"\u001b[0m\u001b[0;34m\u001b[0m\u001b[0;34m\u001b[0m\u001b[0m\n\u001b[1;32m     16\u001b[0m \u001b[0;34m\u001b[0m\u001b[0m\n\u001b[0;32m---> 17\u001b[0;31m \u001b[0;32mfrom\u001b[0m \u001b[0;34m.\u001b[0m \u001b[0;32mimport\u001b[0m \u001b[0mcartpole\u001b[0m\u001b[0;34m,\u001b[0m \u001b[0mpendulum\u001b[0m\u001b[0;34m\u001b[0m\u001b[0;34m\u001b[0m\u001b[0m\n\u001b[0m\u001b[1;32m     18\u001b[0m \u001b[0;34m\u001b[0m\u001b[0m\n\u001b[1;32m     19\u001b[0m \u001b[0m__all__\u001b[0m \u001b[0;34m=\u001b[0m \u001b[0;34m[\u001b[0m\u001b[0;34m\"cartpole\"\u001b[0m\u001b[0;34m,\u001b[0m \u001b[0;34m\"pendulum\"\u001b[0m\u001b[0;34m]\u001b[0m\u001b[0;34m\u001b[0m\u001b[0;34m\u001b[0m\u001b[0m\n",
            "\u001b[0;32m/usr/local/lib/python3.10/dist-packages/neural_ilqr/models/pendulum.py\u001b[0m in \u001b[0;36m<module>\u001b[0;34m\u001b[0m\n\u001b[1;32m     16\u001b[0m \u001b[0;32mimport\u001b[0m \u001b[0mjax\u001b[0m\u001b[0;34m\u001b[0m\u001b[0;34m\u001b[0m\u001b[0m\n\u001b[1;32m     17\u001b[0m \u001b[0;32mimport\u001b[0m \u001b[0mjax\u001b[0m\u001b[0;34m.\u001b[0m\u001b[0mnumpy\u001b[0m \u001b[0;32mas\u001b[0m \u001b[0mjnp\u001b[0m\u001b[0;34m\u001b[0m\u001b[0;34m\u001b[0m\u001b[0m\n\u001b[0;32m---> 18\u001b[0;31m \u001b[0;32mfrom\u001b[0m \u001b[0mneural_ilqr\u001b[0m\u001b[0;34m.\u001b[0m\u001b[0milqr\u001b[0m\u001b[0;34m.\u001b[0m\u001b[0mdynamics\u001b[0m \u001b[0;32mimport\u001b[0m \u001b[0mAutoDiffDynamics\u001b[0m\u001b[0;34m,\u001b[0m \u001b[0mapply_constraint\u001b[0m\u001b[0;34m\u001b[0m\u001b[0;34m\u001b[0m\u001b[0m\n\u001b[0m\u001b[1;32m     19\u001b[0m \u001b[0;34m\u001b[0m\u001b[0m\n\u001b[1;32m     20\u001b[0m \u001b[0;34m\u001b[0m\u001b[0m\n",
            "\u001b[0;31mImportError\u001b[0m: cannot import name 'apply_constraint' from 'neural_ilqr.ilqr.dynamics' (/usr/local/lib/python3.10/dist-packages/neural_ilqr/ilqr/dynamics.py)",
            "",
            "\u001b[0;31m---------------------------------------------------------------------------\u001b[0;32m\nNOTE: If your import is failing due to a missing package, you can\nmanually install dependencies using either !pip or !apt.\n\nTo view examples of installing some common dependencies, click the\n\"Open Examples\" button below.\n\u001b[0;31m---------------------------------------------------------------------------\u001b[0m\n"
          ],
          "errorDetails": {
            "actions": [
              {
                "action": "open_url",
                "actionText": "Open Examples",
                "url": "/notebooks/snippets/importing_libraries.ipynb"
              }
            ]
          }
        }
      ]
    },
    {
      "cell_type": "code",
      "execution_count": null,
      "metadata": {
        "id": "qtKeVGUpSGwX"
      },
      "outputs": [],
      "source": [
        "def on_iteration(iteration_count, xs, us, J_opt, accepted, converged):\n",
        "    J_hist.append(J_opt)\n",
        "    info = \"converged\" if converged else (\"accepted\" if accepted else \"failed\")\n",
        "    final_state = xs[-1]\n",
        "    print(\"iteration\", iteration_count, info, J_opt, final_state)"
      ]
    },
    {
      "cell_type": "code",
      "execution_count": null,
      "metadata": {
        "id": "x6RcLw0mSGwX"
      },
      "outputs": [],
      "source": [
        "dt = 0.05\n",
        "pole_length = 1.0\n",
        "dynamics = CartpoleDynamics(l=pole_length)"
      ]
    },
    {
      "cell_type": "code",
      "execution_count": null,
      "metadata": {
        "id": "3LNL4QURSGwY"
      },
      "outputs": [],
      "source": [
        "# Note that the augmented state is not all 0.\n",
        "x_goal = np.array([0.0, 0.0, 0.0, 0.0])\n",
        "\n",
        "# Instantenous state cost.\n",
        "Q = np.eye(dynamics.dim_state)\n",
        "Q[0, 0] = 1.0\n",
        "Q[1, 1] = Q[3, 3] = 0.0\n",
        "Q[0, 2] = Q[2, 0] = pole_length\n",
        "Q[2, 2] = pole_length**2\n",
        "R = 0.1 * np.eye(dynamics.dim_control)\n",
        "\n",
        "# Terminal state cost.\n",
        "Q_terminal = 100 * np.eye(dynamics.dim_state)\n",
        "\n",
        "# Instantaneous control cost.\n",
        "R = np.array([[0.1]])\n",
        "\n",
        "cost = QRCost(Q, R, Q_terminal=Q_terminal, x_goal=x_goal)"
      ]
    },
    {
      "cell_type": "code",
      "execution_count": null,
      "metadata": {
        "id": "BPaL4GTxSGwY"
      },
      "outputs": [],
      "source": [
        "N = 500\n",
        "x0 = np.array([0.0, 0.0, np.pi, 0.0])\n",
        "us_init = np.random.uniform(-1, 1, (N, dynamics.dim_control))\n",
        "ilqr = iLQR(dynamics, cost, N)"
      ]
    },
    {
      "cell_type": "code",
      "source": [],
      "metadata": {
        "id": "LsePRYFIf8Na"
      },
      "execution_count": null,
      "outputs": []
    },
    {
      "cell_type": "code",
      "execution_count": null,
      "metadata": {
        "scrolled": false,
        "id": "XmoN1JmHSGwY"
      },
      "outputs": [],
      "source": [
        "J_hist = []\n",
        "xs, us = ilqr.fit(x0, us_init, n_iterations=25, on_iteration=on_iteration)"
      ]
    },
    {
      "cell_type": "code",
      "execution_count": null,
      "metadata": {
        "id": "Ce7-xRa-SGwZ"
      },
      "outputs": [],
      "source": [
        "# Reduce the state to something more reasonable.\n",
        "# xs = dynamics.reduce_state(xs)\n",
        "\n",
        "# Constrain the actions to see what's actually applied to the system.\n",
        "# us = constrain(us, dynamics.min_bounds, dynamics.max_bounds)"
      ]
    },
    {
      "cell_type": "code",
      "execution_count": null,
      "metadata": {
        "id": "iTm1qKg1SGwZ"
      },
      "outputs": [],
      "source": [
        "t = np.arange(N + 1) * dt\n",
        "x = xs[:, 0]\n",
        "x_dot = xs[:, 1]\n",
        "theta = np.unwrap(xs[:, 2])  # Makes for smoother plots.\n",
        "theta_dot = xs[:, 3]"
      ]
    },
    {
      "cell_type": "code",
      "execution_count": null,
      "metadata": {
        "id": "_GzU3b87SGwZ"
      },
      "outputs": [],
      "source": [
        "_ = plt.plot(theta, theta_dot)\n",
        "_ = plt.xlabel(\"theta (rad)\")\n",
        "_ = plt.ylabel(\"theta_dot (rad/s)\")\n",
        "_ = plt.title(\"Orientation Phase Plot\")"
      ]
    },
    {
      "cell_type": "code",
      "execution_count": null,
      "metadata": {
        "id": "-qsKgmiTSGwZ"
      },
      "outputs": [],
      "source": [
        "_ = plt.plot(t, theta)\n",
        "_ = plt.xlabel(\"time (s)\")\n",
        "_ = plt.ylabel(\"Orientation (rad)\")\n",
        "_ = plt.title(\"Orientation path\")"
      ]
    },
    {
      "cell_type": "code",
      "execution_count": null,
      "metadata": {
        "id": "GX_0lmlpSGwa"
      },
      "outputs": [],
      "source": [
        "_ = plt.plot(t[:-1], us)\n",
        "_ = plt.xlabel(\"time (s)\")\n",
        "_ = plt.ylabel(\"Force (N)\")\n",
        "_ = plt.title(\"Action path\")"
      ]
    },
    {
      "cell_type": "code",
      "execution_count": null,
      "metadata": {
        "id": "TeDI3nA2SGwa"
      },
      "outputs": [],
      "source": [
        "_ = plt.plot(t, x)\n",
        "_ = plt.xlabel(\"time (s)\")\n",
        "_ = plt.ylabel(\"Position (m)\")\n",
        "_ = plt.title(\"Position path\")"
      ]
    },
    {
      "cell_type": "code",
      "execution_count": null,
      "metadata": {
        "id": "cyJQbpfvSGwa"
      },
      "outputs": [],
      "source": [
        "_ = plt.plot(t, x_dot)\n",
        "_ = plt.xlabel(\"time (s)\")\n",
        "_ = plt.ylabel(\"Velocity (m)\")\n",
        "_ = plt.title(\"Velocity path\")"
      ]
    },
    {
      "cell_type": "code",
      "execution_count": null,
      "metadata": {
        "id": "BD3xqgv5SGwa"
      },
      "outputs": [],
      "source": [
        "_ = plt.plot(t, theta_dot)\n",
        "_ = plt.xlabel(\"time (s)\")\n",
        "_ = plt.ylabel(\"Angular velocity (rad/s)\")\n",
        "_ = plt.title(\"Angular velocity path\")"
      ]
    },
    {
      "cell_type": "code",
      "execution_count": null,
      "metadata": {
        "scrolled": false,
        "id": "y54P8y6GSGwa"
      },
      "outputs": [],
      "source": [
        "_ = plt.plot(J_hist)\n",
        "_ = plt.xlabel(\"Iteration\")\n",
        "_ = plt.ylabel(\"Total cost\")\n",
        "_ = plt.title(\"Total cost-to-go\")"
      ]
    }
  ],
  "metadata": {
    "kernelspec": {
      "display_name": "Python 3",
      "language": "python",
      "name": "python3"
    },
    "language_info": {
      "codemirror_mode": {
        "name": "ipython",
        "version": 3
      },
      "file_extension": ".py",
      "mimetype": "text/x-python",
      "name": "python",
      "nbconvert_exporter": "python",
      "pygments_lexer": "ipython3",
      "version": "3.8.18"
    },
    "notify_time": "5",
    "colab": {
      "provenance": [],
      "include_colab_link": true
    }
  },
  "nbformat": 4,
  "nbformat_minor": 0
}