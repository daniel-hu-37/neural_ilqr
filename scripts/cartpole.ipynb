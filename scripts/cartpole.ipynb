{
 "cells": [
  {
   "cell_type": "markdown",
   "metadata": {},
   "source": [
    "# Cartpole Problem\n",
    "\n",
    "The state and control vectors $\\textbf{x}$ and $\\textbf{u}$ are defined as follows:\n",
    "\n",
    "$$\n",
    "\\begin{equation*}\n",
    "\\textbf{x} = \\begin{bmatrix}\n",
    "    x & \\dot{x} & \\theta & \\dot{\\theta}\n",
    "    \\end{bmatrix}^T\n",
    "\\end{equation*}\n",
    "$$\n",
    "\n",
    "$$\n",
    "\\begin{equation*}\n",
    "\\textbf{u} = \\begin{bmatrix}\n",
    "    F_{x}\n",
    "    \\end{bmatrix}^T\n",
    "\\end{equation*}\n",
    "$$\n",
    "\n",
    "The goal is to swing the pendulum upright:\n",
    "\n",
    "$$\n",
    "\\begin{equation*}\n",
    "\\textbf{x}_{goal} = \\begin{bmatrix}\n",
    "    0 & 0 & 0 & 0\n",
    "    \\end{bmatrix}^T\n",
    "\\end{equation*}\n",
    "$$\n",
    "\n",
    "**Note**: The force is constrained between $-1$ and $1$. This is achieved by\n",
    "instead fitting for unconstrained actions and then applying it to a squashing\n",
    "function $\\tanh(\\textbf{u})$. This is directly embedded into the dynamics model\n",
    "in order to be auto-differentiated. This also means that we need to apply this\n",
    "transformation manually to the output of our iLQR at the end."
   ]
  },
  {
   "cell_type": "code",
   "execution_count": 1,
   "metadata": {},
   "outputs": [],
   "source": [
    "%matplotlib inline"
   ]
  },
  {
   "cell_type": "code",
   "execution_count": 2,
   "metadata": {},
   "outputs": [],
   "source": [
    "from __future__ import print_function"
   ]
  },
  {
   "cell_type": "code",
   "execution_count": 3,
   "metadata": {},
   "outputs": [],
   "source": [
    "import numpy as np\n",
    "import matplotlib.pyplot as plt"
   ]
  },
  {
   "cell_type": "code",
   "execution_count": 4,
   "metadata": {},
   "outputs": [],
   "source": [
    "from neural_ilqr.ilqr.controller import iLQR\n",
    "from neural_ilqr.ilqr.cost import QRCost\n",
    "from neural_ilqr.models.cartpole import CartpoleDynamics"
   ]
  },
  {
   "cell_type": "code",
   "execution_count": 5,
   "metadata": {},
   "outputs": [],
   "source": [
    "def on_iteration(iteration_count, xs, us, J_opt, accepted, converged):\n",
    "    J_hist.append(J_opt)\n",
    "    info = \"converged\" if converged else (\"accepted\" if accepted else \"failed\")\n",
    "    final_state = xs[-1]\n",
    "    print(\"iteration\", iteration_count, info, J_opt, final_state)"
   ]
  },
  {
   "cell_type": "code",
   "execution_count": 6,
   "metadata": {},
   "outputs": [],
   "source": [
    "dt = 0.05\n",
    "pole_length = 1.0\n",
    "dynamics = CartpoleDynamics(l=pole_length)"
   ]
  },
  {
   "cell_type": "code",
   "execution_count": 7,
   "metadata": {},
   "outputs": [],
   "source": [
    "# Note that the augmented state is not all 0.\n",
    "x_goal = np.array([0.0, 0.0, 0.0, 0.0])\n",
    "\n",
    "# Instantenous state cost.\n",
    "Q = np.eye(dynamics.dim_state)\n",
    "Q[0, 0] = 1.0\n",
    "Q[1, 1] = Q[3, 3] = 0.0\n",
    "Q[0, 2] = Q[2, 0] = pole_length\n",
    "Q[2, 2] = pole_length**2\n",
    "R = 0.1 * np.eye(dynamics.dim_control)\n",
    "\n",
    "# Terminal state cost.\n",
    "Q_terminal = 100 * np.eye(dynamics.dim_state)\n",
    "\n",
    "# Instantaneous control cost.\n",
    "R = np.array([[0.1]])\n",
    "\n",
    "cost = QRCost(Q, R, Q_terminal=Q_terminal, x_goal=x_goal)"
   ]
  },
  {
   "cell_type": "code",
   "execution_count": 8,
   "metadata": {},
   "outputs": [],
   "source": [
    "N = 500\n",
    "x0 = np.array([0.0, 0.0, np.pi, 0.0])\n",
    "us_init = np.random.uniform(-1, 1, (N, dynamics.dim_control))\n",
    "ilqr = iLQR(dynamics, cost, N)"
   ]
  },
  {
   "cell_type": "code",
   "execution_count": 9,
   "metadata": {
    "scrolled": false
   },
   "outputs": [
    {
     "name": "stderr",
     "output_type": "stream",
     "text": [
      "No GPU/TPU found, falling back to CPU. (Set TF_CPP_MIN_LOG_LEVEL=0 and rerun for more info.)\n"
     ]
    },
    {
     "ename": "AttributeError",
     "evalue": "'CartpoleDynamics' object has no attribute 'reduce_state'",
     "output_type": "error",
     "traceback": [
      "\u001b[0;31m---------------------------------------------------------------------------\u001b[0m",
      "\u001b[0;31mAttributeError\u001b[0m                            Traceback (most recent call last)",
      "Cell \u001b[0;32mIn[9], line 2\u001b[0m\n\u001b[1;32m      1\u001b[0m J_hist \u001b[39m=\u001b[39m []\n\u001b[0;32m----> 2\u001b[0m xs, us \u001b[39m=\u001b[39m ilqr\u001b[39m.\u001b[39;49mfit(x0, us_init, n_iterations\u001b[39m=\u001b[39;49m\u001b[39m500\u001b[39;49m, on_iteration\u001b[39m=\u001b[39;49mon_iteration)\n",
      "File \u001b[0;32m~/.pyenv/versions/3.8.18/lib/python3.8/site-packages/neural_ilqr-1.0-py3.8.egg/neural_ilqr/ilqr/controller.py:170\u001b[0m, in \u001b[0;36miLQR.fit\u001b[0;34m(self, x0, us_init, n_iterations, tol, on_iteration)\u001b[0m\n\u001b[1;32m    167\u001b[0m     \u001b[39mbreak\u001b[39;00m\n\u001b[1;32m    169\u001b[0m \u001b[39mif\u001b[39;00m on_iteration:\n\u001b[0;32m--> 170\u001b[0m   on_iteration(iteration, xs, us, J_opt, accepted, converged)\n\u001b[1;32m    172\u001b[0m \u001b[39mif\u001b[39;00m converged:\n\u001b[1;32m    173\u001b[0m   \u001b[39mbreak\u001b[39;00m\n",
      "Cell \u001b[0;32mIn[5], line 4\u001b[0m, in \u001b[0;36mon_iteration\u001b[0;34m(iteration_count, xs, us, J_opt, accepted, converged)\u001b[0m\n\u001b[1;32m      2\u001b[0m J_hist\u001b[39m.\u001b[39mappend(J_opt)\n\u001b[1;32m      3\u001b[0m info \u001b[39m=\u001b[39m \u001b[39m\"\u001b[39m\u001b[39mconverged\u001b[39m\u001b[39m\"\u001b[39m \u001b[39mif\u001b[39;00m converged \u001b[39melse\u001b[39;00m (\u001b[39m\"\u001b[39m\u001b[39maccepted\u001b[39m\u001b[39m\"\u001b[39m \u001b[39mif\u001b[39;00m accepted \u001b[39melse\u001b[39;00m \u001b[39m\"\u001b[39m\u001b[39mfailed\u001b[39m\u001b[39m\"\u001b[39m)\n\u001b[0;32m----> 4\u001b[0m final_state \u001b[39m=\u001b[39m dynamics\u001b[39m.\u001b[39;49mreduce_state(xs[\u001b[39m-\u001b[39m\u001b[39m1\u001b[39m])\n\u001b[1;32m      5\u001b[0m \u001b[39mprint\u001b[39m(\u001b[39m\"\u001b[39m\u001b[39miteration\u001b[39m\u001b[39m\"\u001b[39m, iteration_count, info, J_opt, final_state)\n",
      "\u001b[0;31mAttributeError\u001b[0m: 'CartpoleDynamics' object has no attribute 'reduce_state'"
     ]
    }
   ],
   "source": [
    "J_hist = []\n",
    "xs, us = ilqr.fit(x0, us_init, n_iterations=500, on_iteration=on_iteration)"
   ]
  },
  {
   "cell_type": "code",
   "execution_count": null,
   "metadata": {},
   "outputs": [],
   "source": [
    "# Reduce the state to something more reasonable.\n",
    "xs = dynamics.reduce_state(xs)\n",
    "\n",
    "# Constrain the actions to see what's actually applied to the system.\n",
    "# us = constrain(us, dynamics.min_bounds, dynamics.max_bounds)"
   ]
  },
  {
   "cell_type": "code",
   "execution_count": null,
   "metadata": {},
   "outputs": [],
   "source": [
    "t = np.arange(N + 1) * dt\n",
    "x = xs[:, 0]\n",
    "x_dot = xs[:, 1]\n",
    "theta = np.unwrap(xs[:, 2])  # Makes for smoother plots.\n",
    "theta_dot = xs[:, 3]"
   ]
  },
  {
   "cell_type": "code",
   "execution_count": null,
   "metadata": {},
   "outputs": [],
   "source": [
    "_ = plt.plot(theta, theta_dot)\n",
    "_ = plt.xlabel(\"theta (rad)\")\n",
    "_ = plt.ylabel(\"theta_dot (rad/s)\")\n",
    "_ = plt.title(\"Orientation Phase Plot\")"
   ]
  },
  {
   "cell_type": "code",
   "execution_count": null,
   "metadata": {},
   "outputs": [],
   "source": [
    "_ = plt.plot(t, theta)\n",
    "_ = plt.xlabel(\"time (s)\")\n",
    "_ = plt.ylabel(\"Orientation (rad)\")\n",
    "_ = plt.title(\"Orientation path\")"
   ]
  },
  {
   "cell_type": "code",
   "execution_count": null,
   "metadata": {},
   "outputs": [],
   "source": [
    "_ = plt.plot(t[:-1], us)\n",
    "_ = plt.xlabel(\"time (s)\")\n",
    "_ = plt.ylabel(\"Force (N)\")\n",
    "_ = plt.title(\"Action path\")"
   ]
  },
  {
   "cell_type": "code",
   "execution_count": null,
   "metadata": {},
   "outputs": [],
   "source": [
    "_ = plt.plot(t, x)\n",
    "_ = plt.xlabel(\"time (s)\")\n",
    "_ = plt.ylabel(\"Position (m)\")\n",
    "_ = plt.title(\"Position path\")"
   ]
  },
  {
   "cell_type": "code",
   "execution_count": null,
   "metadata": {},
   "outputs": [],
   "source": [
    "_ = plt.plot(t, x_dot)\n",
    "_ = plt.xlabel(\"time (s)\")\n",
    "_ = plt.ylabel(\"Velocity (m)\")\n",
    "_ = plt.title(\"Velocity path\")"
   ]
  },
  {
   "cell_type": "code",
   "execution_count": null,
   "metadata": {},
   "outputs": [],
   "source": [
    "_ = plt.plot(t, theta_dot)\n",
    "_ = plt.xlabel(\"time (s)\")\n",
    "_ = plt.ylabel(\"Angular velocity (rad/s)\")\n",
    "_ = plt.title(\"Angular velocity path\")"
   ]
  },
  {
   "cell_type": "code",
   "execution_count": null,
   "metadata": {
    "scrolled": false
   },
   "outputs": [],
   "source": [
    "_ = plt.plot(J_hist)\n",
    "_ = plt.xlabel(\"Iteration\")\n",
    "_ = plt.ylabel(\"Total cost\")\n",
    "_ = plt.title(\"Total cost-to-go\")"
   ]
  }
 ],
 "metadata": {
  "kernelspec": {
   "display_name": "Python 3",
   "language": "python",
   "name": "python3"
  },
  "language_info": {
   "codemirror_mode": {
    "name": "ipython",
    "version": 3
   },
   "file_extension": ".py",
   "mimetype": "text/x-python",
   "name": "python",
   "nbconvert_exporter": "python",
   "pygments_lexer": "ipython3",
   "version": "3.8.18"
  },
  "notify_time": "5"
 },
 "nbformat": 4,
 "nbformat_minor": 2
}
